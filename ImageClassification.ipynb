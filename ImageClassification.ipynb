{
    "cells": [
        {
            "cell_type": "markdown",
            "metadata": {},
            "source": "## Image Classification\nA quick example on how to use the visual recognition API to classify images"
        },
        {
            "cell_type": "code",
            "execution_count": 4,
            "metadata": {},
            "outputs": [
                {
                    "name": "stdout",
                    "output_type": "stream",
                    "text": "Collecting ibm-watson\n\u001b[?25l  Downloading https://files.pythonhosted.org/packages/dc/da/10f8774b319acdda29885931c01fae862622519bff492957c73b0ba84743/ibm-watson-4.5.0.tar.gz (370kB)\n\u001b[K     |\u2588\u2588\u2588\u2588\u2588\u2588\u2588\u2588\u2588\u2588\u2588\u2588\u2588\u2588\u2588\u2588\u2588\u2588\u2588\u2588\u2588\u2588\u2588\u2588\u2588\u2588\u2588\u2588\u2588\u2588\u2588\u2588| 378kB 9.3MB/s eta 0:00:01\n\u001b[?25hRequirement already satisfied: requests<3.0,>=2.0 in /opt/conda/envs/Python36/lib/python3.6/site-packages (from ibm-watson) (2.21.0)\nRequirement already satisfied: python_dateutil>=2.5.3 in /opt/conda/envs/Python36/lib/python3.6/site-packages (from ibm-watson) (2.7.5)\nRequirement already satisfied: websocket-client==0.48.0 in /opt/conda/envs/Python36/lib/python3.6/site-packages (from ibm-watson) (0.48.0)\nCollecting ibm_cloud_sdk_core==1.5.1 (from ibm-watson)\n  Downloading https://files.pythonhosted.org/packages/b7/f6/10d5271c807d73d236e6ae07b68035fed78b28b5ab836704d34097af3986/ibm-cloud-sdk-core-1.5.1.tar.gz\nRequirement already satisfied: urllib3<1.25,>=1.21.1 in /opt/conda/envs/Python36/lib/python3.6/site-packages (from requests<3.0,>=2.0->ibm-watson) (1.24.1)\nRequirement already satisfied: chardet<3.1.0,>=3.0.2 in /opt/conda/envs/Python36/lib/python3.6/site-packages (from requests<3.0,>=2.0->ibm-watson) (3.0.4)\nRequirement already satisfied: idna<2.9,>=2.5 in /opt/conda/envs/Python36/lib/python3.6/site-packages (from requests<3.0,>=2.0->ibm-watson) (2.8)\nRequirement already satisfied: certifi>=2017.4.17 in /opt/conda/envs/Python36/lib/python3.6/site-packages (from requests<3.0,>=2.0->ibm-watson) (2020.4.5.1)\nRequirement already satisfied: six>=1.5 in /opt/conda/envs/Python36/lib/python3.6/site-packages (from python_dateutil>=2.5.3->ibm-watson) (1.12.0)\nCollecting PyJWT>=1.7.1 (from ibm_cloud_sdk_core==1.5.1->ibm-watson)\n  Downloading https://files.pythonhosted.org/packages/87/8b/6a9f14b5f781697e51259d81657e6048fd31a113229cf346880bb7545565/PyJWT-1.7.1-py2.py3-none-any.whl\nBuilding wheels for collected packages: ibm-watson, ibm-cloud-sdk-core\n  Building wheel for ibm-watson (setup.py) ... \u001b[?25ldone\n\u001b[?25h  Stored in directory: /home/dsxuser/.cache/pip/wheels/71/9a/0a/9b3ca8eca69bc5362eb04709a750b30055a9d27818fd0c9494\n  Building wheel for ibm-cloud-sdk-core (setup.py) ... \u001b[?25ldone\n\u001b[?25h  Stored in directory: /home/dsxuser/.cache/pip/wheels/6a/42/50/f96888116b329578304f9dda4693cef6f3e76e18272d22cb6c\nSuccessfully built ibm-watson ibm-cloud-sdk-core\nInstalling collected packages: PyJWT, ibm-cloud-sdk-core, ibm-watson\nSuccessfully installed PyJWT-1.7.1 ibm-cloud-sdk-core-1.5.1 ibm-watson-4.5.0\n"
                }
            ],
            "source": "# Install the API\n!pip install --upgrade \"watson-developer-cloud>=1.4.0\""
        },
        {
            "cell_type": "markdown",
            "metadata": {},
            "source": "### API key\nMake sure to change the API key to the value from your own service"
        },
        {
            "cell_type": "code",
            "execution_count": 2,
            "metadata": {},
            "outputs": [],
            "source": "# Replace the value of the credentials variable with the credentials from bluemix.net\n\ncredentials = {\n  \"apikey\": \"VL4iti0VONa9ON8SZ3yGPzsr3Sxsq7I-n8A3GXt0O4bu\",\n  \"iam_apikey_description\": \"Auto-generated for key 4e61b589-1362-408c-990f-e2901517e6a2\",\n  \"iam_apikey_name\": \"wdp-writer\",\n  \"iam_role_crn\": \"crn:v1:bluemix:public:iam::::serviceRole:Writer\",\n  \"iam_serviceid_crn\": \"crn:v1:bluemix:public:iam-identity::a/ec53367407ea4efb8810cf8f6fb0322d::serviceid:ServiceId-b7bb09b9-86f8-417c-9b3c-af8c7b9333e0\",\n  \"url\": \"https://api.us-south.visual-recognition.watson.cloud.ibm.com/instances/4b4e0d35-06f1-4dfa-9035-2aff95cb3988\"\n}"
        },
        {
            "cell_type": "code",
            "execution_count": 8,
            "metadata": {},
            "outputs": [
                {
                    "name": "stderr",
                    "output_type": "stream",
                    "text": "/opt/conda/envs/Python36/lib/python3.6/site-packages/ipykernel/__main__.py:8: DeprecationWarning: watson-developer-cloud moved to ibm-watson. To get updates, use the new package.\n"
                }
            ],
            "source": "# Create the interface object\nimport json\nfrom watson_developer_cloud import VisualRecognitionV3\n\nvisual_recognition = VisualRecognitionV3(\n    version='2018-03-19',\n    url=credentials['url'],\n    iam_apikey=credentials['apikey']\n)"
        },
        {
            "cell_type": "markdown",
            "metadata": {},
            "source": "## Access local files\nThe local files are stored in the IBM Cloud Object Storage.<br/>\nIBM COS supports a common set of S3 API functions for programmatic access. Watson Studio can do most of the work of defining the access to your files.\n\nUse the empty cell below to insert code, let's say from \"elantra.jpg\", using the \"Insert to code\" button and the \"Insert StreamingBody object\".\n\nCompare the code to the next cell and modify the next cell:<br/>\n - Replace the four lines starting at `ibm_api_key_id` with the ones you just created\n - Copy the value of Bucket in the client_xxx*.getobject() call and replace the value of bucket in the next cell"
        },
        {
            "cell_type": "code",
            "execution_count": 12,
            "metadata": {},
            "outputs": [
                {
                    "name": "stderr",
                    "output_type": "stream",
                    "text": "/opt/conda/envs/Python36/lib/python3.6/site-packages/ibm_botocore/vendored/requests/api.py:60: DeprecationWarning: You are using the post() function from 'ibm_botocore.vendored.requests'.  This is not a public API in ibm_botocore and will be removed in the future. Additionally, this version of requests is out of date.  We recommend you install the requests package, 'import requests' directly, and use the requests.post() function instead.\n  DeprecationWarning\n"
                }
            ],
            "source": "# The code was removed by Watson Studio for sharing."
        },
        {
            "cell_type": "code",
            "execution_count": 15,
            "metadata": {},
            "outputs": [],
            "source": "# The code was removed by Watson Studio for sharing."
        },
        {
            "cell_type": "code",
            "execution_count": 16,
            "metadata": {},
            "outputs": [
                {
                    "name": "stderr",
                    "output_type": "stream",
                    "text": "/opt/conda/envs/Python36/lib/python3.6/site-packages/ibm_botocore/vendored/requests/api.py:60: DeprecationWarning: You are using the post() function from 'ibm_botocore.vendored.requests'.  This is not a public API in ibm_botocore and will be removed in the future. Additionally, this version of requests is out of date.  We recommend you install the requests package, 'import requests' directly, and use the requests.post() function instead.\n  DeprecationWarning\n"
                },
                {
                    "name": "stdout",
                    "output_type": "stream",
                    "text": "  adding: elantra.jpg (deflated 0%)\n  adding: orange-bmw-m3-coupe.jpg (deflated 1%)\n  adding: volvo-x90-suv.jpg (deflated 0%)\n"
                }
            ],
            "source": "# Create a zip files with the three images we want to classify\nres=cos.download_file(Bucket=Bucket,Key='orange-bmw-m3-coupe.jpg',Filename='orange-bmw-m3-coupe.jpg')\nres=cos.download_file(Bucket=Bucket,Key='volvo-x90-suv.jpg',Filename='volvo-x90-suv.jpg')\nres=cos.download_file(Bucket=Bucket,Key='elantra.jpg',Filename='elantra.jpg')\n!zip cars.zip *.jpg"
        },
        {
            "cell_type": "markdown",
            "metadata": {},
            "source": "## Calling the classifier\nFirst, replace the classifier ID with the ID of your classifier\n\nYou will execute the next two cells twice:\n- With the classifier_ids parameter commented out.<br/>\nThis will show results with the generic classifier that is part of the service\n- Uncomment the classifier_ids and execute again<br/>\nThis time, you get the results from your classifier\n\nNote that both classifier ('default' and your own) can be used at the same time."
        },
        {
            "cell_type": "code",
            "execution_count": 17,
            "metadata": {},
            "outputs": [
                {
                    "name": "stdout",
                    "output_type": "stream",
                    "text": "Image: cars.zip/orange-bmw-m3-coupe.jpg\nClass: race car\nScore: 0.629\nClassifier: default\n \nImage: cars.zip/elantra.jpg\nClass: sedan\nScore: 0.946\nClassifier: default\n \nImage: cars.zip/volvo-x90-suv.jpg\nClass: sport utility\nScore: 0.97\nClassifier: default\n \n"
                }
            ],
            "source": "# Classify the images and print out partial results for readability\ncar_1=open(\"./cars.zip\", 'rb')\nclasses = visual_recognition.classify(\n        car_1,\n        parameters=json.dumps({\n            # 'classifier_ids': ['CarClassifier_973954551'],\n            'threshold': 0.1\n        })).get_result()\n# print(json.dumps(classes, indent=2))\n# Format the json output to be easier to read\nfor i in range(3):\n    result = classes['images'][i]\n    print (\"Image: \" + result['image'])\n    print (\"Class: \" + str(result['classifiers'][0]['classes'][0]['class']))\n    print (\"Score: \" + str(result['classifiers'][0]['classes'][0]['score']))\n    print (\"Classifier: \" + str(result['classifiers'][0]['classifier_id']))\n    print(\" \")"
        },
        {
            "cell_type": "code",
            "execution_count": 18,
            "metadata": {},
            "outputs": [
                {
                    "name": "stdout",
                    "output_type": "stream",
                    "text": "{\n  \"images\": [\n    {\n      \"classifiers\": [\n        {\n          \"classifier_id\": \"default\",\n          \"name\": \"default\",\n          \"classes\": [\n            {\n              \"class\": \"race car\",\n              \"score\": 0.629,\n              \"type_hierarchy\": \"/vehicle/wheeled vehicle/car/race car\"\n            },\n            {\n              \"class\": \"car\",\n              \"score\": 0.713\n            },\n            {\n              \"class\": \"wheeled vehicle\",\n              \"score\": 0.723\n            },\n            {\n              \"class\": \"vehicle\",\n              \"score\": 0.726\n            },\n            {\n              \"class\": \"racing\",\n              \"score\": 0.752,\n              \"type_hierarchy\": \"/sport/racing\"\n            },\n            {\n              \"class\": \"sport\",\n              \"score\": 0.752\n            },\n            {\n              \"class\": \"auto racing\",\n              \"score\": 0.5,\n              \"type_hierarchy\": \"/sport/racing/auto racing\"\n            },\n            {\n              \"class\": \"maroon color\",\n              \"score\": 0.837\n            },\n            {\n              \"class\": \"chestnut red color\",\n              \"score\": 0.643\n            }\n          ]\n        }\n      ],\n      \"image\": \"cars.zip/orange-bmw-m3-coupe.jpg\"\n    },\n    {\n      \"classifiers\": [\n        {\n          \"classifier_id\": \"default\",\n          \"name\": \"default\",\n          \"classes\": [\n            {\n              \"class\": \"sedan\",\n              \"score\": 0.946,\n              \"type_hierarchy\": \"/vehicle/wheeled vehicle/car/sedan\"\n            },\n            {\n              \"class\": \"car\",\n              \"score\": 0.948\n            },\n            {\n              \"class\": \"wheeled vehicle\",\n              \"score\": 0.948\n            },\n            {\n              \"class\": \"vehicle\",\n              \"score\": 0.949\n            },\n            {\n              \"class\": \"claret red color\",\n              \"score\": 0.912\n            },\n            {\n              \"class\": \"maroon color\",\n              \"score\": 0.756\n            }\n          ]\n        }\n      ],\n      \"image\": \"cars.zip/elantra.jpg\"\n    },\n    {\n      \"classifiers\": [\n        {\n          \"classifier_id\": \"default\",\n          \"name\": \"default\",\n          \"classes\": [\n            {\n              \"class\": \"sport utility\",\n              \"score\": 0.97,\n              \"type_hierarchy\": \"/vehicle/wheeled vehicle/car/sport utility\"\n            },\n            {\n              \"class\": \"car\",\n              \"score\": 0.97\n            },\n            {\n              \"class\": \"wheeled vehicle\",\n              \"score\": 0.97\n            },\n            {\n              \"class\": \"vehicle\",\n              \"score\": 0.971\n            },\n            {\n              \"class\": \"ash grey color\",\n              \"score\": 0.716\n            },\n            {\n              \"class\": \"steel blue color\",\n              \"score\": 0.68\n            }\n          ]\n        }\n      ],\n      \"image\": \"cars.zip/volvo-x90-suv.jpg\"\n    }\n  ],\n  \"images_processed\": 3,\n  \"custom_classes\": 0\n}\n"
                }
            ],
            "source": "# Print out the entire json file\nprint(json.dumps(classes, indent=2))"
        },
        {
            "cell_type": "code",
            "execution_count": 19,
            "metadata": {},
            "outputs": [],
            "source": "# remove the local files create earlier\n!rm *.zip *.jpg"
        },
        {
            "cell_type": "code",
            "execution_count": null,
            "metadata": {},
            "outputs": [],
            "source": ""
        }
    ],
    "metadata": {
        "kernelspec": {
            "display_name": "Python 3.6",
            "language": "python",
            "name": "python3"
        },
        "language_info": {
            "codemirror_mode": {
                "name": "ipython",
                "version": 3
            },
            "file_extension": ".py",
            "mimetype": "text/x-python",
            "name": "python",
            "nbconvert_exporter": "python",
            "pygments_lexer": "ipython3",
            "version": "3.6.9"
        }
    },
    "nbformat": 4,
    "nbformat_minor": 1
}